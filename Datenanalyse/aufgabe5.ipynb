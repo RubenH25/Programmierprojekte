{
 "cells": [
  {
   "cell_type": "markdown",
   "metadata": {},
   "source": [
    "# 5. Sinkt  die  Wahrscheinlichkeit  zu  siegen,  wenn  das  vorhergehende  Spiel  eines  Spielers besonders lange gedauert hat?"
   ]
  },
  {
   "cell_type": "code",
   "execution_count": 1,
   "metadata": {},
   "outputs": [],
   "source": [
    "import pandas as pd\n",
    "import numpy as np\n",
    "import plotly.express as px"
   ]
  },
  {
   "cell_type": "code",
   "execution_count": 2,
   "metadata": {},
   "outputs": [],
   "source": [
    "# Laden der bereitgestellten Daten\n",
    "matches = pd.read_csv('../data/raw/atp_matches_till_2022.csv')\n",
    "\n",
    "# Konvertierung des tourney_date in ein Datumformat für die Sortierung\n",
    "matches['tourney_date'] = pd.to_datetime(matches['tourney_date'], format='%Y%m%d')\n",
    "\n",
    "# Sortierung der Daten nach Spieler-ID und Turnierdatum, um aufeinanderfolgende Spiele zu identifizieren\n",
    "atp_matches_sorted = matches.sort_values(by=['winner_id', 'tourney_date'])\n",
    "\n",
    "# Erstellung einer neuen Spalte für die Dauer des vorherigen Spiels jedes Gewinners\n",
    "atp_matches_sorted['prev_match_duration'] = atp_matches_sorted.groupby('winner_id')['minutes'].shift()\n",
    "\n",
    "# Filtern der relevanten Spalten für die Analyse\n",
    "analysis_data = atp_matches_sorted[['winner_id', 'tourney_date', 'minutes', 'prev_match_duration', 'winner_name']]\n"
   ]
  },
  {
   "cell_type": "code",
   "execution_count": 3,
   "metadata": {},
   "outputs": [],
   "source": [
    "\n",
    "# Entfernung von Zeilen mit fehlenden Werten in den Spalten 'minutes' und 'prev_match_duration'\n",
    "filtered_data = analysis_data.dropna(subset=['minutes', 'prev_match_duration'])\n",
    "\n",
    "# Überprüfung der Anzahl der verbleibenden Beobachtungen\n",
    "remaining_observations = filtered_data.shape[0]\n",
    "\n",
    "# Berechnung der durchschnittlichen Siegwahrscheinlichkeit und deren Standardabweichung\n",
    "# Hierbei wird angenommen, dass jeder Eintrag im Datensatz einen Gewinn darstellt\n",
    "average_win_probability = np.mean(filtered_data['minutes'] > filtered_data['prev_match_duration'])\n",
    "std_dev_win_probability = np.std(filtered_data['minutes'] > filtered_data['prev_match_duration'])\n"
   ]
  },
  {
   "cell_type": "code",
   "execution_count": 4,
   "metadata": {},
   "outputs": [
    {
     "name": "stdout",
     "output_type": "stream",
     "text": [
      "Anzahl der verbleibenden Beobachtungen für die Analyse: 83311\n",
      "Durchschnittliche Wahrscheinlichkeit, dass ein Spieler gewinnt, wenn das vorherige Spiel länger dauerte: 50.30%\n",
      "Standardabweichung dieser Wahrscheinlichkeit: 50.00%\n"
     ]
    }
   ],
   "source": [
    "# Schönere Ausgabe der Ergebnisse mit f-Strings\n",
    "print(f\"Anzahl der verbleibenden Beobachtungen für die Analyse: {remaining_observations}\\n\"\n",
    "    f\"Durchschnittliche Wahrscheinlichkeit, dass ein Spieler gewinnt, wenn das vorherige Spiel länger dauerte: {average_win_probability:.2%}\\n\"\n",
    "    f\"Standardabweichung dieser Wahrscheinlichkeit: {std_dev_win_probability:.2%}\")\n"
   ]
  },
  {
   "cell_type": "markdown",
   "metadata": {},
   "source": [
    "Die durchschnittliche Wahrscheinlichkeit, dass ein Spieler ein Spiel gewinnt, nachdem das vorherige Spiel länger gedauert hat, beträgt ungefähr 50.30%. Diese Zahl liegt sehr nahe bei 50%, was darauf hindeutet, dass es keine starke Tendenz gibt, die darauf schließen lässt, dass Spieler weniger wahrscheinlich gewinnen, wenn ihr vorheriges Spiel länger gedauert hat. Darüber hinaus ist die Standardabweichung dieser Wahrscheinlichkeit mit rund 50% sehr hoch, was auf eine erhebliche Variabilität in den Daten hinweist."
   ]
  }
 ],
 "metadata": {
  "kernelspec": {
   "display_name": "bv",
   "language": "python",
   "name": "python3"
  },
  "language_info": {
   "codemirror_mode": {
    "name": "ipython",
    "version": 3
   },
   "file_extension": ".py",
   "mimetype": "text/x-python",
   "name": "python",
   "nbconvert_exporter": "python",
   "pygments_lexer": "ipython3",
   "version": "3.10.11"
  }
 },
 "nbformat": 4,
 "nbformat_minor": 2
}
